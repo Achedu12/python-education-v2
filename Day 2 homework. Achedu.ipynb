{
 "cells": [
  {
   "cell_type": "code",
   "execution_count": 1,
   "metadata": {},
   "outputs": [
    {
     "name": "stdout",
     "output_type": "stream",
     "text": [
      "Original list:  [20, 30, 40, 50, 60, 70, 80, 90, 100, 200]\n",
      "Swapped list:  [80, 20, 30, 40, 50, 70, 60, 90, 100, 200]\n",
      "Please enter a single digit integer.. 10\n",
      "0\n",
      "2\n",
      "4\n",
      "6\n",
      "8\n",
      "10\n"
     ]
    }
   ],
   "source": [
    "# Question 1\n",
    "\n",
    "list1 = [20,30,40,50,60,70,80,90,100,200]\n",
    "\n",
    "length = len(list1)\n",
    "new_length = int(length / 2)\n",
    "print(\"Original list: \", list1)\n",
    "for i in range(new_length):\n",
    "    list1[i] , list1[new_length +1] = list1[new_length +1] ,  list1[i] \n",
    "print(\"Swapped list: \", list1)\n",
    "\n",
    "\n",
    "\n",
    "\n",
    "\n",
    "\n",
    "# Question 2\n",
    "#print even numbers from 0 to n\n",
    "\n",
    "n = int(input(\"Please enter a single digit integer.. \"))\n",
    "for i in range(0, n+1):\n",
    "    if(i % 2 == 0):\n",
    "        print(\"{0}\".format(i))"
   ]
  },
  {
   "cell_type": "code",
   "execution_count": null,
   "metadata": {},
   "outputs": [],
   "source": []
  }
 ],
 "metadata": {
  "kernelspec": {
   "display_name": "Python 3",
   "language": "python",
   "name": "python3"
  },
  "language_info": {
   "codemirror_mode": {
    "name": "ipython",
    "version": 3
   },
   "file_extension": ".py",
   "mimetype": "text/x-python",
   "name": "python",
   "nbconvert_exporter": "python",
   "pygments_lexer": "ipython3",
   "version": "3.8.5"
  }
 },
 "nbformat": 4,
 "nbformat_minor": 4
}
